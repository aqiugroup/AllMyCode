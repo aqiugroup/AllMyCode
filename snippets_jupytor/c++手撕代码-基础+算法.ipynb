{
 "cells": [
  {
   "cell_type": "markdown",
   "metadata": {},
   "source": [
    "# 手撕代码之c++基础"
   ]
  },
  {
   "cell_type": "code",
   "execution_count": 2,
   "metadata": {
    "hide_input": true
   },
   "outputs": [],
   "source": [
    "#include <iostream>\n",
    "#include <algorithm>\n",
    "\n",
    "using namespace std;"
   ]
  },
  {
   "cell_type": "markdown",
   "metadata": {},
   "source": [
    "## 函数memcpy 、memset的实现"
   ]
  },
  {
   "cell_type": "markdown",
   "metadata": {},
   "source": [
    "### memcpy\n",
    "\n",
    "头文件：#include <string.h>\n",
    "函数原型：void *memcpy(void *dest, const void *src, size_t n)\n",
    "\n",
    "功能：将指针src指向的内存空间的n个字节复制到dest指针指向的内存空间\n",
    "\n",
    "参数：src 为原内容内存的起始地址，dest为复制到目标地址的起始地址\n",
    "\n",
    "返回值：目标dest内存的起始地址\n",
    "\n",
    "注意点：\n",
    "\n",
    "1、内存空间不能够有重叠(memmove)； \n",
    "\n",
    "2、memcpy对于需要复制的内容没有限制，因此用途更广；  \n",
    "\n",
    "3、很明确的是memcpy是将 n个字节\n",
    "\n",
    "虽然memcpy对复制的内容完全没有任何的限制，比如数组，结构体等特殊的结构，如果你想将整个结构体变量的内容复制到dest内存区，最好使用sizeof将要复制的内容的完整大小求出来赋值给n，以保持复制的完整性；"
   ]
  },
  {
   "cell_type": "code",
   "execution_count": 3,
   "metadata": {
    "code_folding": [
     0
    ],
    "hide_input": false
   },
   "outputs": [],
   "source": [
    "//考虑内存重叠的情况\n",
    "void* memcpy2(void* desc, const void * src, size_t size)\n",
    "{\n",
    "    if(desc == NULL && src == NULL) {\n",
    "        return NULL;\n",
    "    }\n",
    "    unsigned char* desc1 = (unsigned char*)desc;\n",
    "    unsigned char* src1 = (unsigned char*)src;\n",
    "    \n",
    "    //当内存重叠时，从后往前复制\n",
    "    if (desc1 > src1 && desc1 < (src1 + size)) { //内存发生重叠 \n",
    "        for (int i = size - 1; i >= 0; i--) {\n",
    "            *(desc1+i) = *(src1+i);\n",
    "        }\n",
    "    } else {\n",
    "        for (int i = 0; i < size; i++) {\n",
    "            *desc1++ = *src1++;\n",
    "        }\n",
    "    }\n",
    "\n",
    "    return desc;\n",
    "}"
   ]
  },
  {
   "cell_type": "code",
   "execution_count": 4,
   "metadata": {
    "code_folding": [
     0
    ],
    "hide_input": false
   },
   "outputs": [
    {
     "name": "stdout",
     "output_type": "stream",
     "text": [
      "1 2 3 4 5 6 7 8 9 \u0000 \n"
     ]
    }
   ],
   "source": [
    "// 测试\n",
    "int n = 10;\n",
    "char *dest = (char *)malloc(n);\n",
    "const char *src = \"123456789\";\n",
    "memcpy2(dest, src, n);\n",
    "for(int i=0; i < n; i++) {\n",
    "    cout << dest[i] << \" \";\n",
    "}\n",
    "cout << endl;"
   ]
  },
  {
   "cell_type": "code",
   "execution_count": 5,
   "metadata": {
    "hide_input": true
   },
   "outputs": [
    {
     "name": "stdout",
     "output_type": "stream",
     "text": [
      "0x1050858b0 dst 0x1050858b8\n",
      "0 1 2 3 4 5 6 7 8 9 \n",
      "0 1 2 3 4 5 6 7 8 9 \n",
      "result dst : 0 1 2 3 4 5 6 7 8 9 \n"
     ]
    }
   ],
   "source": [
    "int n = 10;\n",
    "char *src = (char *)malloc(sizeof(char) * (n+n));\n",
    "char *dest = src+9;\n",
    "cout << &src << \" dst \" << &dest << endl;\n",
    "// cout << &*src << \" dst \" << &*dest << endl;\n",
    "\n",
    "char *p = src;\n",
    "for(int i=0; i < n; i++) {\n",
    "    cout << i << \" \";\n",
    "    *(src+i) = i+'0';\n",
    "//     *p++ = i+'0';\n",
    "}\n",
    "cout << endl;\n",
    "\n",
    "for(int i=0; i < n; i++) {\n",
    "    cout << src[i] << \" \";\n",
    "}\n",
    "cout << endl;\n",
    "\n",
    "cout << \"result dst : \";\n",
    "memcpy2(dest, src, n);\n",
    "for(int i=0; i < n; i++) {\n",
    "    cout << dest[i] << \" \";\n",
    "}\n",
    "cout << endl;"
   ]
  },
  {
   "cell_type": "markdown",
   "metadata": {},
   "source": [
    "### memset\n",
    "\n",
    "头文件：#include <string.h>\n",
    "\n",
    "函数原型：void *memset(void *s, int c, size_t n)\n",
    "\n",
    "功能：以s为起始位置的n个字节的内存区域用整数c进行填充\n",
    "\n",
    "参数：s为内存区域的起始位置，c为要填充的字符，n为要填充多少个字节\n",
    "\n",
    "返回值：目标s内存的起始地址\n",
    "\n",
    "注意： \n",
    "\n",
    "1、n表示的是字节数，函数是以字节的形式每次赋值给目标地址；\n",
    "\n",
    "2、memset函数也是以字节为单位进行赋值的\n"
   ]
  },
  {
   "cell_type": "code",
   "execution_count": 5,
   "metadata": {
    "code_folding": [
     0
    ]
   },
   "outputs": [],
   "source": [
    "// memSet 实现\n",
    "void *memSet(void *s, int c, int n)\n",
    "{\n",
    "    if (NULL == s || n < 0) return NULL;\n",
    "    \n",
    "    char * tmpS = (char *)s;\n",
    "    while(n-- > 0) {\n",
    "        *tmpS++ = c;        \n",
    "    }\n",
    "    \n",
    "    return s; \n",
    "}\n"
   ]
  },
  {
   "cell_type": "code",
   "execution_count": 6,
   "metadata": {
    "code_folding": [
     0,
     3,
     10,
     17
    ]
   },
   "outputs": [
    {
     "name": "stdout",
     "output_type": "stream",
     "text": [
      "0 1 2 3 4 5 6 7 8 9 \n",
      "0 1 2 3 4 5 6 7 8 9 \n",
      "result src : 2 2 2 2 2 2 2 2 2 2 \n"
     ]
    }
   ],
   "source": [
    "// 测试\n",
    "int n = 10;\n",
    "char *src = (char *)malloc(sizeof(char) * (n));\n",
    "for(int i=0; i < n; i++) {\n",
    "    cout << i << \" \";\n",
    "    *(src+i) = i+'0';\n",
    "//     *p++ = i+'0';\n",
    "}\n",
    "cout << endl;\n",
    "\n",
    "for(int i=0; i < n; i++) {\n",
    "    cout << src[i] << \" \";\n",
    "}\n",
    "cout << endl;\n",
    "\n",
    "cout << \"result src : \";\n",
    "memSet(src, '2', n);\n",
    "for(int i=0; i < n; i++) {\n",
    "    cout << src[i] << \" \";\n",
    "}\n",
    "cout << endl;"
   ]
  },
  {
   "cell_type": "markdown",
   "metadata": {},
   "source": [
    "# 手撕代码之算法框架"
   ]
  },
  {
   "cell_type": "markdown",
   "metadata": {},
   "source": [
    "### 动态规划模板\n",
    "\n",
    "动态规划的四要素\n",
    "- 重叠子问题\n",
    "- 最优子结构\n",
    "- 状态转移方程\n",
    "    - dp的定义，涉及到状态\n",
    "    - base case，能够确定遍历顺序\n",
    "    - 如何选择，使得状态发生改变\n",
    "\n",
    "\n",
    "代码模板\n",
    "\n",
    "---\n",
    "```c++\n",
    "// 初始化 base case\n",
    "dp[0][0][...] = base case\n",
    "for 状态1 in 状态1的所有取值：\n",
    "    for 状态2 in 状态2的所有取值：\n",
    "        for ...\n",
    "            dp[状态1][状态2][...] = 求最值（选择1，选择2，...） \n",
    "```\n",
    "---"
   ]
  },
  {
   "cell_type": "code",
   "execution_count": null,
   "metadata": {},
   "outputs": [],
   "source": []
  },
  {
   "cell_type": "markdown",
   "metadata": {},
   "source": [
    "# 手撕代码之c++算法"
   ]
  },
  {
   "cell_type": "markdown",
   "metadata": {},
   "source": [
    "## 一行代码求平方根"
   ]
  },
  {
   "cell_type": "code",
   "execution_count": 2,
   "metadata": {},
   "outputs": [],
   "source": [
    "#include<iostream>\n",
    "using namespace std;"
   ]
  },
  {
   "cell_type": "code",
   "execution_count": 5,
   "metadata": {
    "code_folding": [
     0
    ]
   },
   "outputs": [
    {
     "name": "stdout",
     "output_type": "stream",
     "text": [
      "2.23607\n"
     ]
    }
   ],
   "source": [
    "// 二分法,不斷取中間值進行迭代\n",
    "double sqrt_math1(double x)\n",
    "{\n",
    "    if (x < 0) {\n",
    "        return -1;\n",
    "    }\n",
    "    double low = (x >= 1 ? 1 : x), high = (x >= 1 ? x : 1), mid = (low + high) / 2;\n",
    "    while (abs(mid * mid - x) > 0.000001) {\n",
    "        if (mid * mid > x) {\n",
    "            high = mid;\n",
    "        } else {\n",
    "            low = mid;\n",
    "        }\n",
    "        mid = (low + high) / 2;\n",
    "    }\n",
    "    return mid;\n",
    "}\n",
    "cout << sqrt_math1(5) << endl;\n"
   ]
  },
  {
   "cell_type": "code",
   "execution_count": 7,
   "metadata": {
    "code_folding": [
     0
    ]
   },
   "outputs": [
    {
     "name": "stdout",
     "output_type": "stream",
     "text": [
      "2.23607\n"
     ]
    }
   ],
   "source": [
    "//牛顿法，速度比二分法快\n",
    "double sqrt_math2(double x)\n",
    "{\n",
    "    if (x < 0) {\n",
    "        return -1;\n",
    "    }\n",
    "    double pre = x, tem = (pre + x / pre) / 2;\n",
    "    while (abs(tem * tem - x) > 0.000001) {\n",
    "        tem = (tem + x / tem) / 2;\n",
    "    }\n",
    "    return tem;\n",
    "}\n",
    "cout << sqrt_math2(5) << endl;"
   ]
  },
  {
   "cell_type": "code",
   "execution_count": 8,
   "metadata": {
    "code_folding": [
     0
    ]
   },
   "outputs": [
    {
     "name": "stdout",
     "output_type": "stream",
     "text": [
      "2.23607\n"
     ]
    }
   ],
   "source": [
    "//卡马克快速平方根算法(游戏编程经典算法)，比牛顿法快\n",
    "float sqrt_math3(float x)\n",
    "{\n",
    "    if (x < 0) {\n",
    "        return -1;\n",
    "    }\n",
    "    float xhalf = 0.5f * x;\n",
    "    int i = *(int *)&x;   // get bits for floating VALUE\n",
    "    i = 0x5f375a86 - (i >> 1);   // gives initial guess y0\n",
    "    x = *(float *)&i;  // convert bits BACK to float\n",
    "    x = x * (1.5f - xhalf * x * x); // Newton step, repeating increases accuracy\n",
    "    x = x * (1.5f - xhalf * x * x); // Newton step, repeating increases accuracy\n",
    "    x = x * (1.5f - xhalf * x * x); // Newton step, repeating increases accuracy\n",
    "    return 1 / x;\n",
    "}\n",
    "cout << sqrt_math3(5) << endl;"
   ]
  },
  {
   "cell_type": "markdown",
   "metadata": {},
   "source": [
    "## 子序列、子串、子数组\n",
    "- 子序列不一定是连续的\n",
    "- 子串、子数组是连续\n",
    "\n",
    "\n",
    "== 必备知识：动态规划的四要素 ==\n",
    "- 重叠子问题\n",
    "- 最优子结构\n",
    "- 状态转移方程\n",
    "    - dp的定义，涉及到状态\n",
    "    - base case，能够确定遍历顺序\n",
    "    - 如何选择，使得状态发生改变\n",
    "\n",
    "\n",
    "代码模板\n",
    "\n",
    "---\n",
    "```c++\n",
    "// 初始化 base case\n",
    "dp[0][0][...] = base case\n",
    "for 状态1 in 状态1的所有取值：\n",
    "    for 状态2 in 状态2的所有取值：\n",
    "        for ...\n",
    "            dp[状态1][状态2][...] = 求最值（选择1，选择2，...） \n",
    "```\n",
    "---"
   ]
  },
  {
   "cell_type": "markdown",
   "metadata": {},
   "source": [
    "### LIS 最长递增子序列（Longest Common Subsequence）--- dp\n",
    "\n",
    " [300. 最长递增子序列](https://leetcode-cn.com/problems/longest-increasing-subsequence/)\n",
    "\n",
    "\n",
    "\n",
    "> 给你一个整数数组 nums ，找到其中最长严格递增子序列的长度。\n",
    ">\n",
    "> 子序列是由数组派生而来的序列，删除（或不删除）数组中的元素而不改变其余元素的顺序。例如，[3,6,2,7] 是数组 [0,3,1,6,2,2,7] 的子序列。\n",
    ">\n",
    ">\n",
    "> 示例 1：\n",
    ">\n",
    "> 输入：nums = [10,9,2,5,3,7,101,18]\n",
    "> 输出：4\n",
    "> 解释：最长递增子序列是 [2,3,7,101]，因此长度为 4 。\n"
   ]
  },
  {
   "cell_type": "markdown",
   "metadata": {},
   "source": [
    "<font face=\"黑体\" color=blue size=3>定义：dp[i] 表示以 nums[i] 这个数结尾的最长递增子序列的长度。</font>\n",
    "\n",
    "<font face=\"黑体\" color=blue size=3>base case : 当只有当前元素时，自己便是最大的，dp\\[i] 都应该初始化为1 </font>"
   ]
  },
  {
   "cell_type": "code",
   "execution_count": null,
   "metadata": {
    "code_folding": [
     1
    ]
   },
   "outputs": [],
   "source": [
    "// 最长递增子序列 实现\n",
    "    int leetcode_300_longest_increasing_subsequence(vector<int>& nums) {\n",
    "        if(nums.size() == 0) return 0;\n",
    "\n",
    "        vector<int> dp(nums.size(), 1);\n",
    "        for (int i = 0; i < nums.size(); ++i) {\n",
    "            for (int j = 0; j < i; ++j) {\n",
    "                if(nums[i] > nums[j]) dp[i] = max(dp[j]+1, dp[i]);\n",
    "            }\n",
    "        }\n",
    "\n",
    "        int maxValue = dp[0];\n",
    "        for (int k = 0; k < nums.size(); ++k) {\n",
    "            maxValue = max(maxValue, dp[k]);\n",
    "        }\n",
    "        // maxValue = *max_element(f.begin(), f.end())\n",
    "\n",
    "        return maxValue;\n",
    "    }"
   ]
  },
  {
   "cell_type": "markdown",
   "metadata": {},
   "source": [
    "\n",
    "\n",
    "扩展：[354. 俄罗斯套娃信封问题](https://leetcode-cn.com/problems/russian-doll-envelopes/)\n",
    "\n",
    "很多算法问题都需要排序技巧，其难点不在于排序本身，而是需要巧妙地排序进行预处理，将算法问题进行转换，为之后的操作打下基础。\n",
    "\n",
    "信封嵌套问题就需要先按特定的规则**排序**，之后就转换为一个 **最长递增子序列问题**\n",
    "\n",
    "> 给你一个二维整数数组 envelopes ，其中 envelopes[i] = [wi, hi] ，表示第 i 个信封的宽度和高度。\n",
    ">\n",
    "> 当另一个信封的宽度和高度都比这个信封大的时候，这个信封就可以放进另一个信封里，如同俄罗斯套娃一样。\n",
    ">\n",
    "> 请计算 最多能有多少个 信封能组成一组“俄罗斯套娃”信封（即可以把一个信封放到另一个信封里面）。\n",
    ">\n",
    "> 注意：不允许旋转信封。\n",
    ">\n",
    ">\n",
    "> 示例 1：\n",
    ">\n",
    "> 输入：envelopes = [[5,4],[6,4],[6,7],[2,3]]\n",
    "> 输出：3\n",
    "> 解释：最多信封的个数为 3, 组合为: [2,3] => [5,4] => [6,7]。\n",
    "\n",
    "这个解法的关键在于，<font face=\"黑体\" color=red size=3>对于宽度 `w` 相同的数对，要对其高度 `h` 进行降序排序</font>。因为两个宽度相同的信封不能相互包含的，逆序排序保证在 `w` 相同的数对中最多只选取一个。"
   ]
  },
  {
   "cell_type": "code",
   "execution_count": null,
   "metadata": {
    "code_folding": [
     2
    ]
   },
   "outputs": [],
   "source": [
    "\n",
    "```c++\n",
    "    int maxEnvelopes(vector<vector<int>>& envelopes) {\n",
    "        sort(envelopes.begin(), envelopes.end(), \n",
    "        [](vector<int> a, vector<int> b) {return (a[0]<b[0] || (a[0]==b[0]&& a[1]>b[1]));}\n",
    "        );\n",
    "\n",
    "        int n = envelopes.size();\n",
    "        vector<int> height(n, 1);\n",
    "        for (int i = 0; i < n; i++) {\n",
    "            height[i] = envelopes[i][1];\n",
    "        }\n",
    "\n",
    "        return leetcode_300_longest_increasing_subsequence(height);\n",
    "    }\n",
    "```"
   ]
  },
  {
   "cell_type": "markdown",
   "metadata": {},
   "source": [
    "### LCS 最长公共子序列（Longest Common Subsequences）--- dp"
   ]
  },
  {
   "cell_type": "markdown",
   "metadata": {},
   "source": [
    "[1143. 最长公共子序列](https://leetcode-cn.com/problems/longest-common-subsequence/)\n",
    "\n",
    "> 给定两个字符串 text1 和 text2，返回这两个字符串的最长公共子序列的长度。\n",
    ">\n",
    "> 一个字符串的 子序列 是指这样一个新的字符串：它是由原字符串在不改变字符的相对顺序的情况下删除某些字符（也可以不删除任何字符）后组成的新字符串。\n",
    "> 例如，\"ace\" 是 \"abcde\" 的子序列，但 \"aec\" 不是 \"abcde\" 的子序列。两个字符串的「公共子序列」是这两个字符串所共同拥有的子序列。\n",
    ">\n",
    "> 若这两个字符串没有公共子序列，则返回 0。\n",
    ">\n",
    ">  \n",
    ">\n",
    "> 示例 1:\n",
    ">\n",
    "> 输入：text1 = \"abcde\", text2 = \"ace\" \n",
    "> 输出：3  \n",
    "> 解释：最长公共子序列是 \"ace\"，它的长度为 3。"
   ]
  },
  {
   "cell_type": "markdown",
   "metadata": {},
   "source": [
    "<font face=\"黑体\" color=blue size=3>dp(i, j)  定义：对于s1[0..i-1]和s2[0..j-1]，它们的LCS长度是dp(i, j)</font>\n",
    "\n",
    "<font face=\"黑体\" color=blue size=3>base case : 索引为0的行和列表示空串， dp\\[0][..] 和 dp\\[..][0] 都应该初始化为0 </font>\n",
    "\n",
    "状态转移方程，选择：\n",
    "\n",
    "1 当str1(i) == str2(j)相等：dp(i, j) =  dp(i-1, j-1) + 1\n",
    "\n",
    "2 当str1(i) != str2(j)不相等，则都做下选择: dp(i, j) = max(dp(i-1, j), dp(i, j-1))， 注意当既不存在i也不存在j，也应该考虑， 最终的转移方程：dp(i, j) = max(max(dp(i-1, j), dp(i, j-1)), dp(i-1, j-1);\n",
    "\n"
   ]
  },
  {
   "cell_type": "code",
   "execution_count": null,
   "metadata": {
    "code_folding": [
     2
    ]
   },
   "outputs": [],
   "source": [
    "\n",
    "```c++\n",
    "    int longestCommonSubsequence(string text1, string text2) {\n",
    "        int m = text1.size(), n = text2.size();\n",
    "        vector<vector<int>> dp(m+1, vector<int>(n+1, 0));\n",
    "\n",
    "        for(int i = 1; i <= m; i++) {\n",
    "            for(int j = 1; j <= n; j++) {\n",
    "                if(text1[i-1] == text2[j-1]) dp[i][j] = dp[i-1][j-1]+1;\n",
    "                else dp[i][j] = max(max(dp[i-1][j], dp[i][j-1]), dp[i-1][j-1]);\n",
    "            }\n",
    "        }\n",
    "\n",
    "        return dp[m][n];\n",
    "    }\n",
    "```"
   ]
  },
  {
   "cell_type": "markdown",
   "metadata": {},
   "source": [
    "### LCS 最长公共子串（Longest Common Substring）--- dp"
   ]
  },
  {
   "cell_type": "markdown",
   "metadata": {},
   "source": [
    "**最大公共子串要求的字串是连续**的。\n",
    "\n",
    "求子串的方法和求子序列方法类似：\n",
    "\n",
    "<font face=\"黑体\" color=blue size=3>1 当str1(i) == str2(j)相等：dp(i, j) =  dp(i-1, j-1) + 1</font>\n",
    "\n",
    "<font face=\"黑体\" color=blue size=3>2 当str1(i) != str2(j)不相等: dp(i, j) = 0</font>\n",
    "\n"
   ]
  },
  {
   "cell_type": "code",
   "execution_count": null,
   "metadata": {
    "code_folding": [
     2
    ]
   },
   "outputs": [],
   "source": [
    "\n",
    "```c++\n",
    "    int longestCommonSubstring(string text1, string text2) {\n",
    "        int m = text1.size(), n = text2.size();\n",
    "        vector<vector<int>> dp(m+1, vector<int>(n+1, 0));\n",
    "\n",
    "        for(int i = 1; i <= m; i++) {\n",
    "            for(int j = 1; j <= n; j++) {\n",
    "                if(text1[i-1] == text2[j-1]) dp[i][j] = dp[i-1][j-1]+1;\n",
    "                else dp[i][j] = 0;\n",
    "            }\n",
    "        }\n",
    "\n",
    "        return dp[m][n];\n",
    "    }\n",
    "```\n",
    "\n"
   ]
  },
  {
   "cell_type": "markdown",
   "metadata": {},
   "source": [
    "### 最长回文子序列 --- dp"
   ]
  },
  {
   "cell_type": "markdown",
   "metadata": {},
   "source": [
    " [516. 最长回文子序列](https://leetcode-cn.com/problems/longest-palindromic-subsequence/)\n",
    "\n",
    "> 给定一个字符串 s ，找到其中最长的回文子序列，并返回该序列的长度。可以假设 s 的最大长度为 1000 。\n",
    ">\n",
    ">  \n",
    ">\n",
    "> 示例 1:\n",
    "> 输入:\n",
    ">\n",
    "> \"bbbab\"\n",
    "> 输出:\n",
    ">\n",
    "> 4\n",
    "> 一个可能的最长回文子序列为 \"bbbb\"。\n",
    "\n"
   ]
  },
  {
   "cell_type": "markdown",
   "metadata": {},
   "source": [
    "<font face=\"黑体\" color=blue size=3>dp(i, j)  定义：在子串s[i..j]中，最长回文子序列的长度为dp(i, j)</font>\n",
    "\n",
    "归纳：\n",
    "\n",
    "如果我们想求`dp(i,j)，假设你知道了子问题`dp(i+1,j-1)的结果（dp(i+1,j-1)中最长回文子序列的长度）,可以归纳出，\n",
    "\n",
    "状态转移方程，选择：\n",
    "\n",
    "1 当s(i) == s(j)相等：dp(i, j) =  dp(i+1, j-1) +2\n",
    "\n",
    "2 当s(i) != s(j) 不相等：dp(i, j) =  max(dp(i+1, j), dp(i,j-1))\n",
    "\n",
    "<font face=\"黑体\" color=blue size=3>base case : 如果只有一个字符，显然最长回文子序列长度是 1，也就是`dp(i,j) = 1,(i == j)`。因为`i`肯定小于等于`j`，所以对于那些`i > j`的位置，根本不存在什么子序列，应该初始化为 0。 </font>\n",
    "\n",
    "想求dp(i, j) 需要知道dp(i+1, j), dp(i+1, j-1) ,dp(i, j-1)  这三个位置；再看看我们确定的 base case，填入 dp 数组之后是这样：\n",
    "\n",
    "<img src=\"leetcode题解.assets/image-20210401230848855.png\" alt=\"image-20210401230848855\" style=\"zoom:25%;\" />\n",
    "\n",
    "**为了保证每次计算dp(i, j)，左、下、左下三个方向的位置已经被计算出来，只能斜着遍历或者反着遍历**：\n",
    "\n",
    "<img src=\"leetcode题解.assets/image-20210401230923781.png\" alt=\"image-20210401230923781\" style=\"zoom:25%;\" />"
   ]
  },
  {
   "cell_type": "code",
   "execution_count": null,
   "metadata": {
    "code_folding": [
     2
    ]
   },
   "outputs": [],
   "source": [
    "\n",
    "```c++\n",
    "    int longestPalindromeSubseq(string s) {\n",
    "        int n = s.size();\n",
    "        // dp 数组全部初始化为 0\n",
    "        vector<vector<int>> dp(n, vector<int>(n, 0));\n",
    "        // base case\n",
    "        for (int i = 0; i < n; i++)\n",
    "            dp[i][i] = 1;\n",
    "        // 反着遍历保证正确的状态转移\n",
    "        for (int i = n - 1; i >= 0; i--) {\n",
    "            for (int j = i + 1; j < n; j++) {\n",
    "                // 状态转移方程\n",
    "                if (s[i] == s[j])\n",
    "                    dp[i][j] = dp[i + 1][j - 1] + 2;\n",
    "                else\n",
    "                    dp[i][j] = max(dp[i + 1][j], dp[i][j - 1]);\n",
    "            }\n",
    "        }\n",
    "        // 整个 s 的最长回文子串长度\n",
    "        return dp[0][n - 1];\n",
    "    }\n",
    "```"
   ]
  },
  {
   "cell_type": "markdown",
   "metadata": {},
   "source": [
    "### 最长回文子串 --- 双指针"
   ]
  },
  {
   "cell_type": "markdown",
   "metadata": {},
   "source": [
    " [5. 最长回文子串](https://leetcode-cn.com/problems/longest-palindromic-substring/)\n",
    "\n",
    "> 给你一个字符串 s，找到 s 中最长的回文子串。\n",
    ">\n",
    ">  \n",
    ">\n",
    "> 示例 1：\n",
    ">\n",
    "> 输入：s = \"babad\"\n",
    "> 输出：\"bab\"\n",
    "> 解释：\"aba\" 同样是符合题意的答案。\n",
    "> 示例 2：\n",
    ">\n",
    "> 输入：s = \"cbbd\"\n",
    "> 输出：\"bb\"\n",
    "\n",
    "关键：双指针\n",
    "\n"
   ]
  },
  {
   "cell_type": "code",
   "execution_count": null,
   "metadata": {
    "code_folding": [
     1
    ]
   },
   "outputs": [],
   "source": [
    "```c++\n",
    "    int longestPalindromeSubseq(string s) {\n",
    "        int n = s.size();\n",
    "        // dp 数组全部初始化为 0\n",
    "        vector<vector<int>> dp(n, vector<int>(n, 0));\n",
    "        // base case\n",
    "        for (int i = 0; i < n; i++)\n",
    "            dp[i][i] = 1;\n",
    "        // 反着遍历保证正确的状态转移\n",
    "        for (int i = n - 1; i >= 0; i--) {\n",
    "            for (int j = i + 1; j < n; j++) {\n",
    "                // 状态转移方程\n",
    "                if (s[i] == s[j])\n",
    "                    dp[i][j] = dp[i + 1][j - 1] + 2;\n",
    "                else\n",
    "                    dp[i][j] = max(dp[i + 1][j], dp[i][j - 1]);\n",
    "            }\n",
    "        }\n",
    "        // 整个 s 的最长回文子串长度\n",
    "        return dp[0][n - 1];\n",
    "    }\n",
    "```"
   ]
  },
  {
   "cell_type": "code",
   "execution_count": null,
   "metadata": {},
   "outputs": [],
   "source": []
  },
  {
   "cell_type": "markdown",
   "metadata": {},
   "source": [
    "### 最长覆盖子串 --- slide window"
   ]
  },
  {
   "cell_type": "markdown",
   "metadata": {},
   "source": [
    "[76. 最小覆盖子串](https://leetcode-cn.com/problems/minimum-window-substring/)\n",
    "\n",
    "> 给你一个字符串 s 、一个字符串 t 。返回 s 中涵盖 t 所有字符的最小子串。如果 s 中不存在涵盖 t 所有字符的子串，则返回空字符串 \"\" 。\n",
    ">\n",
    "> 注意：如果 s 中存在这样的子串，我们保证它是唯一的答案。\n",
    ">\n",
    ">  \n",
    ">\n",
    "> 示例 1：\n",
    ">\n",
    "> 输入：s = \"ADOBECODEBANC\", t = \"ABC\"\n",
    "> 输出：\"BANC\"\n",
    "> 示例 2：\n",
    ">\n",
    "> 输入：s = \"a\", t = \"a\"\n",
    "> 输出：\"a\"\n",
    ">\n",
    "\n"
   ]
  },
  {
   "cell_type": "code",
   "execution_count": null,
   "metadata": {
    "code_folding": [
     4
    ]
   },
   "outputs": [],
   "source": [
    "首先回顾一下滑动窗口的框架思维：\n",
    "\n",
    "```c++\n",
    "/* 滑动窗口算法框架 */\n",
    "void slidingWindow(string s, string t) {\n",
    "    unordered_map<char, int> need, window;\n",
    "    for (char c : t) need[c]++;\n",
    "\n",
    "    int left = 0, right = 0;\n",
    "    int valid = 0; \n",
    "    while (right < s.size()) {\n",
    "        // c 是将移入窗口的字符\n",
    "        char c = s[right];\n",
    "        // 右移窗口\n",
    "        right++;\n",
    "        // 进行窗口内数据的一系列更新\n",
    "        ...\n",
    "\n",
    "        /*** debug 输出的位置 ***/\n",
    "        printf(\"window: [%d, %d)\\n\", left, right);\n",
    "        /********************/\n",
    "\n",
    "        // 判断左侧窗口是否要收缩\n",
    "        while (window needs shrink) {\n",
    "            // d 是将移出窗口的字符\n",
    "            char d = s[left];\n",
    "            // 左移窗口\n",
    "            left++;\n",
    "            // 进行窗口内数据的一系列更新\n",
    "            ...\n",
    "        }\n",
    "    }\n",
    "}\n",
    "```"
   ]
  },
  {
   "cell_type": "code",
   "execution_count": null,
   "metadata": {
    "code_folding": [
     2
    ]
   },
   "outputs": [],
   "source": [
    "\n",
    "```c++\n",
    "    string minWindow(string s, string t) {\n",
    "        unordered_map<char, int> need, window;\n",
    "        for (auto c : t) need[c]++;\n",
    "        // 记录最小覆盖子串的起始索引和长度\n",
    "        int left = 0, right = 0;\n",
    "        int valid = 0;\n",
    "\n",
    "        \n",
    "        int start = 0, len = INT_MAX;\n",
    "        while(right < s.size()) {\n",
    "            char c = s[right];// c是将移入窗口的字符\n",
    "            right++;//右移窗口\n",
    "\n",
    "            if(need.count(c)) {\n",
    "                window[c]++;\n",
    "                if(window[c]==need[c]) {\n",
    "                    valid++;\n",
    "                }\n",
    "            }\n",
    "\n",
    "            while(valid == need.size()) {\n",
    "                if (right - left < len) {\n",
    "                    start = left;\n",
    "                    len = right - left;\n",
    "                }\n",
    "\n",
    "                char d = s[left]; //d是将移出窗口的字符\n",
    "                left++; // 左移窗口\n",
    "\n",
    "                // 进行窗口内数据的一系列更新\n",
    "                if(need.count(d)) {\n",
    "                    if(window[d] == need[d]) {\n",
    "                        valid--;\n",
    "                    }\n",
    "\n",
    "                    window[d]--;\n",
    "                }\n",
    "            }\n",
    "        }\n",
    "\n",
    "        return len == INT_MAX ? \"\" : s.substr(start, len);\n",
    "    }\n",
    "```"
   ]
  },
  {
   "cell_type": "markdown",
   "metadata": {},
   "source": [
    "### 最长无重复子串 --- slide window"
   ]
  },
  {
   "cell_type": "markdown",
   "metadata": {},
   "source": [
    "\n",
    "[3. 无重复字符的最长子串](https://leetcode-cn.com/problems/longest-substring-without-repeating-characters/)\n",
    "\n",
    "> 给定一个字符串，请你找出其中不含有重复字符的 最长子串 的长度。\n",
    ">\n",
    ">  \n",
    ">\n",
    "> 示例 1:\n",
    ">\n",
    "> 输入: s = \"abcabcbb\"\n",
    "> 输出: 3 \n",
    "> 解释: 因为无重复字符的最长子串是 \"abc\"，所以其长度为 3。\n",
    "> 示例 2:\n",
    ">\n",
    "> 输入: s = \"bbbbb\"\n",
    "> 输出: 1\n",
    "> 解释: 因为无重复字符的最长子串是 \"b\"，所以其长度为 1。"
   ]
  },
  {
   "cell_type": "code",
   "execution_count": null,
   "metadata": {
    "code_folding": [
     1
    ]
   },
   "outputs": [],
   "source": [
    "```c++\n",
    "    int lengthOfLongestSubstring(string s) {\n",
    "        unordered_map<char, int> window;\n",
    "        int left = 0, right = 0;\n",
    "        int res = 0;\n",
    "        while(right < s.size()) {\n",
    "            char c = s[right];\n",
    "            right++;\n",
    "            window[c]++;\n",
    "            \n",
    "            while(window[c]>1) {\n",
    "                char d = s[left];\n",
    "                left++;\n",
    "                window[d]--;\n",
    "            }\n",
    "\n",
    "            res = max(res, right-left);\n",
    "        }\n",
    "\n",
    "        return res;\n",
    "      \n",
    "        // 优化版本\n",
    "        int freq[256] = {0};\n",
    "        int l = 0, r = -1;\n",
    "        int rst = 0;\n",
    "        while(l < s.size()){\n",
    "            if (r+1 < s.size() && freq[s[r+1]] == 0) freq[s[++r]] ++;\n",
    "            else freq[s[l++]]--;\n",
    "\n",
    "            rst = max(rst, r-l+1);\n",
    "        }\n",
    "\n",
    "        return rst;\n",
    "    }\n",
    "```"
   ]
  },
  {
   "cell_type": "markdown",
   "metadata": {},
   "source": [
    "### 最大子数组 --- dp"
   ]
  },
  {
   "cell_type": "markdown",
   "metadata": {},
   "source": [
    "[剑指 Offer 42. 连续子数组的最大和](https://leetcode-cn.com/problems/lian-xu-zi-shu-zu-de-zui-da-he-lcof/)\n",
    "\n",
    "> 输入一个整型数组，数组中的一个或连续多个整数组成一个子数组。求所有子数组的和的最大值。\n",
    ">\n",
    "> 要求时间复杂度为O(n)。\n",
    ">\n",
    ">  \n",
    ">\n",
    "> 示例1:\n",
    ">\n",
    "> 输入: nums = [-2,1,-3,4,-1,2,1,-5,4]\n",
    "> 输出: 6\n",
    "> 解释: 连续子数组 [4,-1,2,1] 的和最大，为 6。\n",
    ">\n",
    ">\n",
    "> 提示：\n",
    ">\n",
    "> 1 <= arr.length <= 10^5\n",
    "> -100 <= arr[i] <= 100\n",
    "\n"
   ]
  },
  {
   "cell_type": "markdown",
   "metadata": {},
   "source": [
    "dp[i]定义：以num[i]为结尾的最大子数组和为dp[i]\n",
    "\n",
    "归纳法找状态转移方程：\n",
    "\n",
    "假设我们已经算出了dp(i-1)，如何推导出dp(i)呢？\n",
    "\n",
    "1 与前面的相邻子数组连接，形成一个和更大的子数组；\n",
    "\n",
    "2 不与前面的子数组连接，自成一派，自己作为一个子数组。\n",
    "\n",
    "选择以上更大的一个\n",
    "\n",
    "base case：第一个元素前面没有子数组\n",
    "\n"
   ]
  },
  {
   "cell_type": "code",
   "execution_count": null,
   "metadata": {
    "code_folding": [
     1
    ]
   },
   "outputs": [],
   "source": [
    "```c++\n",
    "    int maxSubArray(vector<int>& nums) {\n",
    "        // 1 清晰版本\n",
    "        int n = nums.size();\n",
    "        if (n == 0) return 0;\n",
    "        vector<int> dp(n, 0);\n",
    "        // base case\n",
    "        // 第一个元素前面没有子数组\n",
    "        dp[0] = nums[0];\n",
    "        // 状态转移方程\n",
    "        for (int i = 1; i < n; i++) {\n",
    "            dp[i] = max(nums[i], nums[i] + dp[i - 1]);\n",
    "        }\n",
    "        // 得到 nums 的最大子数组\n",
    "        int res = nums[0];\n",
    "        for (int i = 0; i < n; i++) {\n",
    "            res = max(res, dp[i]);\n",
    "        }\n",
    "        return res;\n",
    "\n",
    "        // 2 状态压缩\n",
    "        // base case\n",
    "        // 第一个元素前面没有子数组\n",
    "        res = nums[0];\n",
    "        for(int i = 1; i < nums.size(); i++){\n",
    "            nums[i] += max(nums[i-1], 0);\n",
    "            res = max(res, nums[i]);\n",
    "        }\n",
    "\n",
    "        return res;\n",
    "    }\n",
    "```"
   ]
  },
  {
   "cell_type": "markdown",
   "metadata": {},
   "source": [
    "### 和为k的子数组 --- 前缀和"
   ]
  },
  {
   "cell_type": "markdown",
   "metadata": {},
   "source": [
    "[560. 和为K的子数组](https://leetcode-cn.com/problems/subarray-sum-equals-k/)\n",
    "\n",
    "> 给定一个整数数组和一个整数 k，你需要找到该数组中和为 k 的连续的子数组的个数。\n",
    ">\n",
    "> 示例 1 :\n",
    ">\n",
    "> 输入:nums = [1,1,1], k = 2\n",
    "> 输出: 2 , [1,1] 与 [1,1] 为两种不同的情况。\n",
    "> 说明 :\n",
    ">\n",
    "> 数组的长度为 [1, 20,000]。\n",
    "> 数组中元素的范围是 [-1000, 1000] ，且整数 k 的范围是 [-1e7, 1e7]。\n",
    "\n",
    "核心思路：<font face=\"黑体\" color=red size=3>前缀和</font>\n",
    "\n"
   ]
  },
  {
   "cell_type": "code",
   "execution_count": null,
   "metadata": {
    "code_folding": [
     1
    ],
    "hide_input": false
   },
   "outputs": [],
   "source": [
    "```c++\n",
    "    int subarraySum(vector<int>& nums, int k) {\n",
    "        // labuladong\n",
    "        int n = nums.size();\n",
    "        vector<int> preSum(n+1, 0);\n",
    "        for (int i = 0; i < n; i++) {\n",
    "            preSum[i+1] = preSum[i] + nums[i];\n",
    "        }\n",
    "\n",
    "        int res = 0;\n",
    "        for (int i = 0; i <= n; i++) {\n",
    "            for (int j = 0; j < i; j++) {\n",
    "                if (preSum[i]-preSum[j] == k) {\n",
    "                    res++;\n",
    "                }\n",
    "            }\n",
    "        }\n",
    "\n",
    "        return res;\n",
    "\n",
    "        // 2 空间换时间\n",
    "        map<int, int> mapSumNums{{0, 1}};\n",
    "        int sum = 0, rst = 0;\n",
    "        for (int i = 0; i < nums.size(); ++i) {\n",
    "            sum += nums[i];\n",
    "            if(mapSumNums.count(sum - k))  { rst = rst + mapSumNums[sum-k];}\n",
    "\n",
    "            if(mapSumNums.count(sum))  mapSumNums[sum]++;\n",
    "            else mapSumNums[sum] = 1;\n",
    "        }\n",
    "\n",
    "        return rst;\n",
    "    }\n",
    "```"
   ]
  }
 ],
 "metadata": {
  "kernelspec": {
   "display_name": "C++11",
   "language": "C++11",
   "name": "xcpp11"
  },
  "language_info": {
   "codemirror_mode": "text/x-c++src",
   "file_extension": ".cpp",
   "mimetype": "text/x-c++src",
   "name": "c++",
   "version": "11"
  },
  "toc": {
   "base_numbering": 1,
   "nav_menu": {},
   "number_sections": true,
   "sideBar": true,
   "skip_h1_title": false,
   "title_cell": "Table of Contents",
   "title_sidebar": "Contents",
   "toc_cell": false,
   "toc_position": {},
   "toc_section_display": true,
   "toc_window_display": true
  },
  "varInspector": {
   "cols": {
    "lenName": 16,
    "lenType": 16,
    "lenVar": 40
   },
   "kernels_config": {
    "python": {
     "delete_cmd_postfix": "",
     "delete_cmd_prefix": "del ",
     "library": "var_list.py",
     "varRefreshCmd": "print(var_dic_list())"
    },
    "r": {
     "delete_cmd_postfix": ") ",
     "delete_cmd_prefix": "rm(",
     "library": "var_list.r",
     "varRefreshCmd": "cat(var_dic_list()) "
    }
   },
   "types_to_exclude": [
    "module",
    "function",
    "builtin_function_or_method",
    "instance",
    "_Feature"
   ],
   "window_display": false
  }
 },
 "nbformat": 4,
 "nbformat_minor": 4
}
