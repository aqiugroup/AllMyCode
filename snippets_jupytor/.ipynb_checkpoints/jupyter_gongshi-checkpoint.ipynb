{
 "cells": [
  {
   "cell_type": "code",
   "execution_count": 1,
   "metadata": {},
   "outputs": [
    {
     "name": "stdout",
     "output_type": "stream",
     "text": [
      "x*(x**3 + y + 8)\n",
      "x**4 + x*y + 8*x\n",
      "-40*x**4*y**2\n",
      "{x: 6, y: 4}\n",
      "[(-b + sqrt(-4*a*c + b**2))/(2*a), -(b + sqrt(-4*a*c + b**2))/(2*a)]\n",
      "1\n",
      "exp(x)*sin(x) + exp(x)*cos(x)\n",
      "2*exp(x)*cos(x)\n",
      "sqrt(2)*sqrt(pi)/2\n",
      "result  {x: -1/a, y: -1/b}\n",
      "l1  [-b -a a*b]\n",
      "l2  [-c*e c*d a*e - b*d]\n",
      "l1  [0 0 0]\n"
     ]
    }
   ],
   "source": [
    "# https://zhuanlan.zhihu.com/p/60509430\n",
    "import numpy as np\n",
    "import sympy as sym\n",
    "\n",
    "# 1 simplify\n",
    "x,y = sym.symbols('x y')\n",
    "expr=x**4+x*y+8*x\n",
    "f_expr=sym.factor(expr)\n",
    "e_expr=sym.expand(f_expr)\n",
    "print(f_expr)\n",
    "print(e_expr)\n",
    "\n",
    "expr=(2*x)**3*(-5*x*y**2)\n",
    "s_expr=sym.simplify(expr)\n",
    "print(s_expr)\n",
    "\n",
    "# 2 solve \n",
    "x,y = sym.symbols('x y')\n",
    "print(sym.solve([x + y-10,2*x+y-16],[x,y]))\n",
    "\n",
    "x,y = sym.symbols('x y')\n",
    "a,b,c=sym.symbols('a b c')\n",
    "expr=a*x**2 + b*x + c\n",
    "s_expr=sym.solve( expr, x)\n",
    "print(s_expr)\n",
    "\n",
    "\n",
    "# 3 Calculus\n",
    "x, y, z = sym.symbols('x y z')\n",
    "expr = sym.sin(x)/x\n",
    "l_expr=sym.limit(expr, x, 0)\n",
    "print(l_expr)\n",
    "\n",
    "\n",
    "# 4 differantial\n",
    "x,y = sym.symbols('x y')\n",
    "expr=sym.sin(x)*sym.exp(x)\n",
    "diff_expr=sym.diff(expr, x)\n",
    "diff_expr2=sym.diff(expr,x,2)\n",
    "print(diff_expr)\n",
    "print(diff_expr2)\n",
    "\n",
    "# 5 integrate\n",
    "x,y = sym.symbols('x y')\n",
    "expr=sym.sin(x**2)\n",
    "i_expr=sym.integrate(expr, (x, -sym.oo, sym.oo))\n",
    "print(i_expr)\n",
    "\n",
    "\n",
    "#  test\n",
    "x,y = sym.symbols('x y')\n",
    "a,b,c,d,e=sym.symbols('a b c d e')\n",
    "print(\"result \", sym.solve([a*x + 1,b*y+1],[x,y]))\n",
    "l1 = np.cross(np.array([a, 0, 1]), np.array([0,b,1]))\n",
    "print(\"l1 \", l1)\n",
    "\n",
    "l2 = np.cross(np.array([a, b, c]), np.array([d,e,0]))\n",
    "print(\"l2 \", l2)\n",
    "\n",
    "# cross\n",
    "\n",
    "u1,u2,u3=sym.symbols('u1 u2 u3')\n",
    "u=np.array([u1,u2,u3])\n",
    "l1 = np.cross(u,u)\n",
    "print(\"l1 \", l1)\n"
   ]
  },
  {
   "cell_type": "code",
   "execution_count": null,
   "metadata": {},
   "outputs": [],
   "source": []
  }
 ],
 "metadata": {
  "kernelspec": {
   "display_name": "py36",
   "language": "python",
   "name": "py36"
  },
  "language_info": {
   "codemirror_mode": {
    "name": "ipython",
    "version": 3
   },
   "file_extension": ".py",
   "mimetype": "text/x-python",
   "name": "python",
   "nbconvert_exporter": "python",
   "pygments_lexer": "ipython3",
   "version": "3.6.2"
  },
  "toc": {
   "base_numbering": 1,
   "nav_menu": {},
   "number_sections": true,
   "sideBar": true,
   "skip_h1_title": false,
   "title_cell": "Table of Contents",
   "title_sidebar": "Contents",
   "toc_cell": false,
   "toc_position": {},
   "toc_section_display": true,
   "toc_window_display": false
  },
  "varInspector": {
   "cols": {
    "lenName": 16,
    "lenType": 16,
    "lenVar": 40
   },
   "kernels_config": {
    "python": {
     "delete_cmd_postfix": "",
     "delete_cmd_prefix": "del ",
     "library": "var_list.py",
     "varRefreshCmd": "print(var_dic_list())"
    },
    "r": {
     "delete_cmd_postfix": ") ",
     "delete_cmd_prefix": "rm(",
     "library": "var_list.r",
     "varRefreshCmd": "cat(var_dic_list()) "
    }
   },
   "types_to_exclude": [
    "module",
    "function",
    "builtin_function_or_method",
    "instance",
    "_Feature"
   ],
   "window_display": false
  }
 },
 "nbformat": 4,
 "nbformat_minor": 4
}
